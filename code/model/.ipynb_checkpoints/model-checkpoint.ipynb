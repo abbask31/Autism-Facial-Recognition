{
 "cells": [
  {
   "cell_type": "code",
   "execution_count": 3,
   "metadata": {},
   "outputs": [],
   "source": [
    "from PIL import Image\n",
    "import numpy as np\n",
    "import cv2 as cv \n",
    "import torch\n",
    "from torchvision.models import vgg19"
   ]
  },
  {
   "cell_type": "code",
   "execution_count": 14,
   "metadata": {},
   "outputs": [
    {
     "name": "stdout",
     "output_type": "stream",
     "text": [
      "classifier.0.weight 32\n",
      "classifier.0.bias 33\n",
      "classifier.3.weight 34\n",
      "classifier.3.bias 35\n",
      "classifier.6.weight 36\n",
      "classifier.6.bias 37\n"
     ]
    }
   ],
   "source": [
    "vgg = vgg19(pretrained=True)\n",
    "\n",
    "for i, (name, param) in enumerate(vgg.named_parameters()):\n",
    "    if param.requires_grad:\n",
    "        if i >= 32:\n",
    "            param.requires_grad = True\n",
    "        else:\n",
    "            param.requires_grad = False\n",
    "\n",
    "for i, (name, param) in enumerate(vgg.named_parameters()):\n",
    "    if param.requires_grad:\n",
    "        print(name, i)\n",
    "\n"
   ]
  },
  {
   "cell_type": "code",
   "execution_count": null,
   "metadata": {},
   "outputs": [],
   "source": []
  }
 ],
 "metadata": {
  "kernelspec": {
   "display_name": "Python 3 (ipykernel)",
   "language": "python",
   "name": "python3"
  },
  "language_info": {
   "codemirror_mode": {
    "name": "ipython",
    "version": 3
   },
   "file_extension": ".py",
   "mimetype": "text/x-python",
   "name": "python",
   "nbconvert_exporter": "python",
   "pygments_lexer": "ipython3",
   "version": "3.9.12"
  }
 },
 "nbformat": 4,
 "nbformat_minor": 2
}
